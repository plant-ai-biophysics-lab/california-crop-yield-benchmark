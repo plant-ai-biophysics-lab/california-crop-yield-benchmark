{
 "cells": [
  {
   "cell_type": "code",
   "execution_count": 1,
   "metadata": {},
   "outputs": [],
   "source": [
    "%load_ext autoreload\n",
    "%autoreload 2\n",
    "import warnings\n",
    "warnings.filterwarnings('ignore')"
   ]
  },
  {
   "cell_type": "code",
   "execution_count": 2,
   "metadata": {},
   "outputs": [],
   "source": [
    "import dataLoader"
   ]
  },
  {
   "cell_type": "code",
   "execution_count": null,
   "metadata": {},
   "outputs": [],
   "source": [
    "data_loader_training, data_loader_validate, data_loader_test = dataLoader.dataloader(\n",
    "    county_name='Monterey', \n",
    "    batch_size= 32\n",
    ")"
   ]
  },
  {
   "cell_type": "code",
   "execution_count": null,
   "metadata": {},
   "outputs": [],
   "source": [
    "# Fetch one batch from the DataLoader\n",
    "import itertools\n",
    "sample = next(iter(data_loader_test))\n",
    "\n",
    "# Unpack data\n",
    "landsat_sample = sample['satellite']\n",
    "et_sample = sample['et']\n",
    "climate_sample = sample['climate']\n",
    "soil_sample = sample['soil']\n",
    "\n",
    "# Print shapes\n",
    "print(f\"Landsat Sample Shape: {landsat_sample.shape}\")  # Expected: (1, 12, 6, N)\n",
    "print(f\"ET Sample Shape: {et_sample.shape}\")            # Expected: (1, 12, 1, N)\n",
    "print(f\"Climate Sample Shape: {climate_sample.shape}\")  # Expected: (1, 365, 8, M)\n",
    "print(f\"Soil Sample Shape: {soil_sample.shape}\")        # Expected: (1, 1, 5, N)"
   ]
  },
  {
   "cell_type": "code",
   "execution_count": 3,
   "metadata": {},
   "outputs": [],
   "source": [
    "import torch\n",
    "landsat_sample = torch.randn(32, 12, 6, 512)  # (num_samples, 12, 6, N)\n",
    "et_sample = torch.randn(32, 12, 1, 512)  # (num_samples, 12, 1, N)\n",
    "climate_sample = torch.randn(32, 365, 8, 32)  # (num_samples, 365, 8, M)\n",
    "soil_sample = torch.randn(32, 1, 5, 512)  # (num_samples, 1, 5, N)"
   ]
  },
  {
   "cell_type": "code",
   "execution_count": 13,
   "metadata": {},
   "outputs": [
    {
     "name": "stdout",
     "output_type": "stream",
     "text": [
      "torch.Size([32, 1, 5, 512])\n"
     ]
    }
   ],
   "source": [
    "print(soil_sample.shape)"
   ]
  },
  {
   "cell_type": "code",
   "execution_count": 8,
   "metadata": {},
   "outputs": [
    {
     "name": "stdout",
     "output_type": "stream",
     "text": [
      "Landsat: torch.Size([32, 3, 768])\n",
      "ET: torch.Size([32, 3, 768])\n",
      "torch.Size([32, 3, 768]) torch.Size([32, 3, 768]) torch.Size([32, 17, 768]) torch.Size([32, 6, 768])\n"
     ]
    }
   ],
   "source": [
    "from attention import MultiModalEmbed\n",
    "\n",
    "from configs import Configs\n",
    "config = Configs(\n",
    "    embed_dim =  768, \n",
    "    landsat_channels =  6, \n",
    "    et_channels =  1, \n",
    "    climate_variables =  8, \n",
    "    soil_variables =  5, \n",
    "    num_heads =  8, \n",
    "    num_layers =  8,\n",
    "    attn_dropout =  0.1, \n",
    "    proj_dropout =  0.1, \n",
    "    timeseries =  True,\n",
    "    pool =  False\n",
    ").call()\n",
    "index = 1\n",
    "\n",
    "\n",
    "l_embed , et, climate, soil = MultiModalEmbed(\n",
    "    config, time_step= index+1\n",
    ")(landsat_sample[:, :index+1, ...], et_sample[:, :index+1, ...], climate_sample[:, :(index+1)*30, ...], soil_sample)\n",
    "\n",
    "\n",
    "print(l_embed.shape, et.shape, climate.shape, soil.shape)"
   ]
  },
  {
   "cell_type": "code",
   "execution_count": 4,
   "metadata": {},
   "outputs": [],
   "source": [
    "import numpy as np\n",
    "import pandas as pd"
   ]
  },
  {
   "cell_type": "code",
   "execution_count": 25,
   "metadata": {},
   "outputs": [
    {
     "name": "stdout",
     "output_type": "stream",
     "text": [
      "Caneberries | (12, 6, 0), (12, 1, 0), (365, 8, 0), (1, 5, 0)\n",
      "Greens | (12, 6, 4), (12, 1, 4), (365, 8, 0), (1, 5, 4)\n",
      "Broccoli | (12, 6, 72), (12, 1, 72), (365, 8, 0), (1, 5, 72)\n",
      "Cabbage | (12, 6, 0), (12, 1, 0), (365, 8, 0), (1, 5, 0)\n",
      "Cauliflower | (12, 6, 0), (12, 1, 0), (365, 8, 0), (1, 5, 0)\n",
      "Celery | (12, 6, 0), (12, 1, 0), (365, 8, 0), (1, 5, 0)\n",
      "Radishes | (12, 6, 0), (12, 1, 0), (365, 8, 0), (1, 5, 0)\n"
     ]
    }
   ],
   "source": [
    "npz_file_path = '/data2/hkaman/Data/FoundationModel/Monterey/InD/2022/Monterey_2022.npz'\n",
    "\n",
    "loaded_data = np.load(npz_file_path, allow_pickle=True)[\"input\"]\n",
    "loaded_data = loaded_data.item()  # Convert the array to a dictionary\n",
    "crop_names = loaded_data.keys()\n",
    "\n",
    "csv_file_path = '/data2/hkaman/Data/FoundationModel/Monterey/InD/2022/yield_2022.csv'\n",
    "df = pd.read_csv(csv_file_path)\n",
    "\n",
    "for crop_name in crop_names:\n",
    "    landsat = loaded_data[crop_name]['landsat_data']\n",
    "    et = loaded_data[crop_name]['et_data'][:, :1, :]\n",
    "    climate = loaded_data[crop_name]['climate_data']\n",
    "    soil = loaded_data[crop_name]['soil_data'].reshape(1, 5, -1)\n",
    "\n",
    "    if landsat.shape[-1] == 0 or et.shape[-1] == 0 or climate.shape[-1] == 0 or soil.shape[-1] == 0:\n",
    "        print(f\"{crop_name} | {landsat.shape}, {et.shape}, {climate.shape}, {soil.shape}\")\n",
    "        df = df[df['key_crop_name'] != crop_name].reset_index(drop=True) \n",
    "\n",
    "df.to_csv(csv_file_path)\n"
   ]
  },
  {
   "cell_type": "code",
   "execution_count": 27,
   "metadata": {},
   "outputs": [
    {
     "name": "stdout",
     "output_type": "stream",
     "text": [
      "Processed and saved: /data2/hkaman/Data/FoundationModel/Monterey/InD/2013/yield_2013.csv\n",
      "Processed and saved: /data2/hkaman/Data/FoundationModel/Monterey/InD/2014/yield_2014.csv\n",
      "Processed and saved: /data2/hkaman/Data/FoundationModel/Monterey/InD/2015/yield_2015.csv\n",
      "Processed and saved: /data2/hkaman/Data/FoundationModel/Monterey/InD/2016/yield_2016.csv\n",
      "Processed and saved: /data2/hkaman/Data/FoundationModel/Monterey/InD/2017/yield_2017.csv\n",
      "Processed and saved: /data2/hkaman/Data/FoundationModel/Monterey/InD/2018/yield_2018.csv\n",
      "Processed and saved: /data2/hkaman/Data/FoundationModel/Monterey/InD/2019/yield_2019.csv\n",
      "Processed and saved: /data2/hkaman/Data/FoundationModel/Monterey/InD/2020/yield_2020.csv\n",
      "Processed and saved: /data2/hkaman/Data/FoundationModel/Monterey/InD/2021/yield_2021.csv\n",
      "Processed and saved: /data2/hkaman/Data/FoundationModel/Monterey/InD/2022/yield_2022.csv\n"
     ]
    }
   ],
   "source": [
    "for year in range(2013, 2023):\n",
    "    csv_file_path = f'/data2/hkaman/Data/FoundationModel/Monterey/InD/{year}/yield_{year}.csv'\n",
    "    df = pd.read_csv(csv_file_path)\n",
    "    if 'key_crop_name' not in df.columns:\n",
    "        print(f\"Skipping {csv_file_path} - 'key_crop_name' column missing.\")\n",
    "        continue\n",
    "\n",
    "    # Group by key_crop_name\n",
    "    df_grouped = df.groupby(\"key_crop_name\").agg({\n",
    "        \"harvested_acres\": \"sum\",\n",
    "        \"production\": \"sum\",\n",
    "        \"yield\": \"sum\",\n",
    "        \"crop_name\": lambda x: list(x)  # Convert crop_name values to a list\n",
    "    }).reset_index()\n",
    "\n",
    "    # Save back to the same file\n",
    "    df_grouped.to_csv(csv_file_path, index=False)\n",
    "\n",
    "    print(f\"Processed and saved: {csv_file_path}\")"
   ]
  },
  {
   "cell_type": "code",
   "execution_count": 9,
   "metadata": {},
   "outputs": [
    {
     "name": "stdout",
     "output_type": "stream",
     "text": [
      "Updated and saved: /data2/hkaman/Data/FoundationModel/Monterey/InD/2008/yield_2008.csv\n",
      "Updated and saved: /data2/hkaman/Data/FoundationModel/Monterey/InD/2009/yield_2009.csv\n",
      "Updated and saved: /data2/hkaman/Data/FoundationModel/Monterey/InD/2010/yield_2010.csv\n",
      "Updated and saved: /data2/hkaman/Data/FoundationModel/Monterey/InD/2011/yield_2011.csv\n"
     ]
    }
   ],
   "source": [
    "import pandas as pd\n",
    "for year in range(2008, 2012):\n",
    "    csv_file_path = f'/data2/hkaman/Data/FoundationModel/Monterey/InD/{year}/yield_{year}.csv'\n",
    "    \n",
    "    # Read the CSV\n",
    "    df = pd.read_csv(csv_file_path)\n",
    "\n",
    "    # Add new columns\n",
    "    df[\"county\"] = \"Monterey\"\n",
    "    df[\"year\"] = year\n",
    "\n",
    "    # Save back to the same file\n",
    "    df.to_csv(csv_file_path, index=False)\n",
    "\n",
    "    print(f\"Updated and saved: {csv_file_path}\")"
   ]
  }
 ],
 "metadata": {
  "kernelspec": {
   "display_name": "vit",
   "language": "python",
   "name": "python3"
  },
  "language_info": {
   "codemirror_mode": {
    "name": "ipython",
    "version": 3
   },
   "file_extension": ".py",
   "mimetype": "text/x-python",
   "name": "python",
   "nbconvert_exporter": "python",
   "pygments_lexer": "ipython3",
   "version": "3.11.7"
  }
 },
 "nbformat": 4,
 "nbformat_minor": 2
}
