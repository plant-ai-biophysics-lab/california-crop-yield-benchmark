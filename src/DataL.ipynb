{
 "cells": [
  {
   "cell_type": "code",
   "execution_count": 1,
   "metadata": {},
   "outputs": [],
   "source": [
    "%load_ext autoreload\n",
    "%autoreload 2\n",
    "import warnings\n",
    "warnings.filterwarnings('ignore')"
   ]
  },
  {
   "cell_type": "code",
   "execution_count": 2,
   "metadata": {},
   "outputs": [],
   "source": [
    "import dataLoader"
   ]
  },
  {
   "cell_type": "code",
   "execution_count": null,
   "metadata": {},
   "outputs": [],
   "source": [
    "data_loader_training, data_loader_validate, data_loader_test = dataLoader.dataloader(\n",
    "    county_name='Monterey', \n",
    "    batch_size= 32\n",
    ")"
   ]
  },
  {
   "cell_type": "code",
   "execution_count": null,
   "metadata": {},
   "outputs": [],
   "source": [
    "# Fetch one batch from the DataLoader\n",
    "import itertools\n",
    "sample = next(iter(data_loader_test))\n",
    "\n",
    "# Unpack data\n",
    "landsat_sample = sample['satellite']\n",
    "et_sample = sample['et']\n",
    "climate_sample = sample['climate']\n",
    "soil_sample = sample['soil']\n",
    "\n",
    "# Print shapes\n",
    "print(f\"Landsat Sample Shape: {landsat_sample.shape}\")  # Expected: (1, 12, 6, N)\n",
    "print(f\"ET Sample Shape: {et_sample.shape}\")            # Expected: (1, 12, 1, N)\n",
    "print(f\"Climate Sample Shape: {climate_sample.shape}\")  # Expected: (1, 365, 8, M)\n",
    "print(f\"Soil Sample Shape: {soil_sample.shape}\")        # Expected: (1, 1, 5, N)"
   ]
  },
  {
   "cell_type": "code",
   "execution_count": 3,
   "metadata": {},
   "outputs": [],
   "source": [
    "import torch\n",
    "landsat_sample = torch.randn(32, 12, 6, 128)  # (num_samples, 12, 6, N)\n",
    "et_sample = torch.randn(32, 12, 1, 128)  # (num_samples, 12, 1, N)\n",
    "climate_sample = torch.randn(32, 365, 8, 128)  # (num_samples, 365, 8, M)\n",
    "soil_sample = torch.randn(32, 1, 5, 128)  # (num_samples, 1, 5, N)"
   ]
  },
  {
   "cell_type": "code",
   "execution_count": 5,
   "metadata": {},
   "outputs": [
    {
     "name": "stdout",
     "output_type": "stream",
     "text": [
      "torch.Size([32, 3, 768]) torch.Size([32, 3, 768]) torch.Size([32, 17, 768]) torch.Size([32, 6, 768])\n"
     ]
    }
   ],
   "source": [
    "from attention import MultiModalEmbed\n",
    "\n",
    "from configs import Configs\n",
    "config = Configs(\n",
    "    embed_dim =  768, \n",
    "    landsat_channels =  6, \n",
    "    et_channels =  1, \n",
    "    climate_variables =  8, \n",
    "    soil_variables =  5, \n",
    "    num_heads =  8, \n",
    "    num_layers =  8,\n",
    "    attn_dropout =  0.1, \n",
    "    proj_dropout =  0.1, \n",
    "    timeseries =  True,\n",
    "    pool =  False\n",
    ").call()\n",
    "index = 1\n",
    "\n",
    "\n",
    "l_embed , et, climate, soil = MultiModalEmbed(\n",
    "    config, time_step= index+1\n",
    ")(landsat_sample[:, :index+1, ...], et_sample[:, :index+1, ...], climate_sample[:, :(index+1)*30, ...], soil_sample)\n",
    "\n",
    "\n",
    "print(l_embed.shape, et.shape, climate.shape, soil.shape)"
   ]
  },
  {
   "cell_type": "code",
   "execution_count": 4,
   "metadata": {},
   "outputs": [],
   "source": [
    "import numpy as np\n",
    "import pandas as pd"
   ]
  },
  {
   "cell_type": "code",
   "execution_count": 25,
   "metadata": {},
   "outputs": [
    {
     "name": "stdout",
     "output_type": "stream",
     "text": [
      "Caneberries | (12, 6, 0), (12, 1, 0), (365, 8, 0), (1, 5, 0)\n",
      "Greens | (12, 6, 4), (12, 1, 4), (365, 8, 0), (1, 5, 4)\n",
      "Broccoli | (12, 6, 72), (12, 1, 72), (365, 8, 0), (1, 5, 72)\n",
      "Cabbage | (12, 6, 0), (12, 1, 0), (365, 8, 0), (1, 5, 0)\n",
      "Cauliflower | (12, 6, 0), (12, 1, 0), (365, 8, 0), (1, 5, 0)\n",
      "Celery | (12, 6, 0), (12, 1, 0), (365, 8, 0), (1, 5, 0)\n",
      "Radishes | (12, 6, 0), (12, 1, 0), (365, 8, 0), (1, 5, 0)\n"
     ]
    }
   ],
   "source": [
    "npz_file_path = '/data2/hkaman/Data/FoundationModel/Monterey/InD/2022/Monterey_2022.npz'\n",
    "\n",
    "loaded_data = np.load(npz_file_path, allow_pickle=True)[\"input\"]\n",
    "loaded_data = loaded_data.item()  # Convert the array to a dictionary\n",
    "crop_names = loaded_data.keys()\n",
    "\n",
    "csv_file_path = '/data2/hkaman/Data/FoundationModel/Monterey/InD/2022/yield_2022.csv'\n",
    "df = pd.read_csv(csv_file_path)\n",
    "\n",
    "for crop_name in crop_names:\n",
    "    landsat = loaded_data[crop_name]['landsat_data']\n",
    "    et = loaded_data[crop_name]['et_data'][:, :1, :]\n",
    "    climate = loaded_data[crop_name]['climate_data']\n",
    "    soil = loaded_data[crop_name]['soil_data'].reshape(1, 5, -1)\n",
    "\n",
    "    if landsat.shape[-1] == 0 or et.shape[-1] == 0 or climate.shape[-1] == 0 or soil.shape[-1] == 0:\n",
    "        print(f\"{crop_name} | {landsat.shape}, {et.shape}, {climate.shape}, {soil.shape}\")\n",
    "        df = df[df['key_crop_name'] != crop_name].reset_index(drop=True) \n",
    "\n",
    "df.to_csv(csv_file_path)\n"
   ]
  },
  {
   "cell_type": "code",
   "execution_count": 27,
   "metadata": {},
   "outputs": [
    {
     "name": "stdout",
     "output_type": "stream",
     "text": [
      "Processed and saved: /data2/hkaman/Data/FoundationModel/Monterey/InD/2013/yield_2013.csv\n",
      "Processed and saved: /data2/hkaman/Data/FoundationModel/Monterey/InD/2014/yield_2014.csv\n",
      "Processed and saved: /data2/hkaman/Data/FoundationModel/Monterey/InD/2015/yield_2015.csv\n",
      "Processed and saved: /data2/hkaman/Data/FoundationModel/Monterey/InD/2016/yield_2016.csv\n",
      "Processed and saved: /data2/hkaman/Data/FoundationModel/Monterey/InD/2017/yield_2017.csv\n",
      "Processed and saved: /data2/hkaman/Data/FoundationModel/Monterey/InD/2018/yield_2018.csv\n",
      "Processed and saved: /data2/hkaman/Data/FoundationModel/Monterey/InD/2019/yield_2019.csv\n",
      "Processed and saved: /data2/hkaman/Data/FoundationModel/Monterey/InD/2020/yield_2020.csv\n",
      "Processed and saved: /data2/hkaman/Data/FoundationModel/Monterey/InD/2021/yield_2021.csv\n",
      "Processed and saved: /data2/hkaman/Data/FoundationModel/Monterey/InD/2022/yield_2022.csv\n"
     ]
    }
   ],
   "source": [
    "for year in range(2013, 2023):\n",
    "    csv_file_path = f'/data2/hkaman/Data/FoundationModel/Monterey/InD/{year}/yield_{year}.csv'\n",
    "    df = pd.read_csv(csv_file_path)\n",
    "    if 'key_crop_name' not in df.columns:\n",
    "        print(f\"Skipping {csv_file_path} - 'key_crop_name' column missing.\")\n",
    "        continue\n",
    "\n",
    "    # Group by key_crop_name\n",
    "    df_grouped = df.groupby(\"key_crop_name\").agg({\n",
    "        \"harvested_acres\": \"sum\",\n",
    "        \"production\": \"sum\",\n",
    "        \"yield\": \"sum\",\n",
    "        \"crop_name\": lambda x: list(x)  # Convert crop_name values to a list\n",
    "    }).reset_index()\n",
    "\n",
    "    # Save back to the same file\n",
    "    df_grouped.to_csv(csv_file_path, index=False)\n",
    "\n",
    "    print(f\"Processed and saved: {csv_file_path}\")"
   ]
  },
  {
   "cell_type": "code",
   "execution_count": 9,
   "metadata": {},
   "outputs": [
    {
     "name": "stdout",
     "output_type": "stream",
     "text": [
      "Updated and saved: /data2/hkaman/Data/FoundationModel/Monterey/InD/2008/yield_2008.csv\n",
      "Updated and saved: /data2/hkaman/Data/FoundationModel/Monterey/InD/2009/yield_2009.csv\n",
      "Updated and saved: /data2/hkaman/Data/FoundationModel/Monterey/InD/2010/yield_2010.csv\n",
      "Updated and saved: /data2/hkaman/Data/FoundationModel/Monterey/InD/2011/yield_2011.csv\n"
     ]
    }
   ],
   "source": [
    "import pandas as pd\n",
    "for year in range(2008, 2012):\n",
    "    csv_file_path = f'/data2/hkaman/Data/FoundationModel/Monterey/InD/{year}/yield_{year}.csv'\n",
    "    \n",
    "    # Read the CSV\n",
    "    df = pd.read_csv(csv_file_path)\n",
    "\n",
    "    # Add new columns\n",
    "    df[\"county\"] = \"Monterey\"\n",
    "    df[\"year\"] = year\n",
    "\n",
    "    # Save back to the same file\n",
    "    df.to_csv(csv_file_path, index=False)\n",
    "\n",
    "    print(f\"Updated and saved: {csv_file_path}\")"
   ]
  },
  {
   "cell_type": "markdown",
   "metadata": {},
   "source": [
    "### Yield"
   ]
  },
  {
   "cell_type": "code",
   "execution_count": 3,
   "metadata": {},
   "outputs": [],
   "source": [
    "base_csv_path = f'/data2/hkaman/Data/FoundationModel/Monterey/InD/'\n",
    "def read_and_split_csf_files(base_path):\n",
    "    import os \n",
    "    import numpy as np\n",
    "    import pandas as pd\n",
    "\n",
    "    train_years = list(range(2008, 2012)) + list(range(2013, 2019))  # Excludes 2012\n",
    "    valid_years = [2019, 2020]\n",
    "    test_years = [2021, 2022]\n",
    "\n",
    "    train_df, valid_df, test_df = [], [], []\n",
    "\n",
    "    for year in range(2008, 2023):  # Loop through all expected years\n",
    "        folder_path = os.path.join(base_path, str(year))\n",
    "        csv_file = os.path.join(folder_path, f\"yield_{year}.csv\")  # Assuming filename matches the year\n",
    "\n",
    "        if year == 2012 or not os.path.exists(csv_file):\n",
    "            continue  # Skip missing years or non-existing files\n",
    "\n",
    "        df = pd.read_csv(csv_file)  # Update if a different format is needed\n",
    "        df = df[df['key_crop_name'] != 'No Match']\n",
    "\n",
    "        if year in train_years:\n",
    "            train_df.append(df)\n",
    "        elif year in valid_years:\n",
    "            valid_df.append(df)\n",
    "        elif year in test_years:\n",
    "            test_df.append(df)\n",
    "\n",
    "    # Concatenate dataframes\n",
    "    train_df = pd.concat(train_df, ignore_index=True) if train_df else None\n",
    "    valid_df = pd.concat(valid_df, ignore_index=True) if valid_df else None\n",
    "    test_df = pd.concat(test_df, ignore_index=True) if test_df else None\n",
    "\n",
    "    return train_df, valid_df, test_df\n",
    "\n",
    "\n",
    "train_df, valid_df, test_df = read_and_split_csf_files(base_csv_path)"
   ]
  },
  {
   "cell_type": "code",
   "execution_count": 4,
   "metadata": {},
   "outputs": [
    {
     "data": {
      "image/png": "[encoded data removed]",
      "text/plain": [
       "<Figure size 800x600 with 1 Axes>"
      ]
     },
     "metadata": {},
     "output_type": "display_data"
    }
   ],
   "source": [
    "import numpy as np\n",
    "import matplotlib.pyplot as plt\n",
    "import seaborn as sns\n",
    "\n",
    "\n",
    "# Create the figure\n",
    "plt.figure(figsize=(8, 6))\n",
    "\n",
    "# Plot KDE distributions with filled areas (shadows)\n",
    "sns.kdeplot(train_df['yield'], bw_adjust=0.5, fill=True, alpha=0.5, label='DF1')\n",
    "sns.kdeplot(valid_df['yield'], bw_adjust=0.5, fill=True, alpha=0.5, label='DF2')\n",
    "sns.kdeplot(test_df['yield'], bw_adjust=0.5, fill=True, alpha=0.5, label='DF3')\n",
    "\n",
    "# Labels and title\n",
    "plt.xlabel(\"Yield\")\n",
    "plt.ylabel(\"Density\")\n",
    "plt.title(\"Yield Distribution\")\n",
    "plt.legend()\n",
    "\n",
    "# Show the plot\n",
    "plt.show()"
   ]
  },
  {
   "cell_type": "code",
   "execution_count": 7,
   "metadata": {},
   "outputs": [
    {
     "data": {
      "text/plain": [
       "28.571142857142856"
      ]
     },
     "execution_count": 7,
     "metadata": {},
     "output_type": "execute_result"
    }
   ],
   "source": [
    "test_df['yield'].mean()"
   ]
  }
 ],
 "metadata": {
  "kernelspec": {
   "display_name": "vit",
   "language": "python",
   "name": "python3"
  },
  "language_info": {
   "codemirror_mode": {
    "name": "ipython",
    "version": 3
   },
   "file_extension": ".py",
   "mimetype": "text/x-python",
   "name": "python",
   "nbconvert_exporter": "python",
   "pygments_lexer": "ipython3",
   "version": "3.11.7"
  }
 },
 "nbformat": 4,
 "nbformat_minor": 2
}
